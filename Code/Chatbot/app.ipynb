{
 "cells": [
  {
   "cell_type": "markdown",
   "metadata": {},
   "source": [
    "# Importing All Required Packages and Libraries"
   ]
  },
  {
   "cell_type": "code",
   "execution_count": 1,
   "metadata": {},
   "outputs": [
    {
     "name": "stderr",
     "output_type": "stream",
     "text": [
      "/home/salehahmad/Documents/Self_Done_Work/Daniel/env/lib/python3.11/site-packages/pinecone/data/index.py:1: TqdmWarning: IProgress not found. Please update jupyter and ipywidgets. See https://ipywidgets.readthedocs.io/en/stable/user_install.html\n",
      "  from tqdm.autonotebook import tqdm\n",
      "/home/salehahmad/Documents/Self_Done_Work/Daniel/env/lib/python3.11/site-packages/pydantic/_internal/_fields.py:132: UserWarning: Field \"model_name\" in HuggingFaceInferenceAPIEmbeddings has conflict with protected namespace \"model_\".\n",
      "\n",
      "You may be able to resolve this warning by setting `model_config['protected_namespaces'] = ()`.\n",
      "  warnings.warn(\n"
     ]
    }
   ],
   "source": [
    "from chatbot import RAGChatbot\n",
    "import os\n",
    "from dotenv import load_dotenv\n",
    "load_dotenv()\n",
    "\n",
    "import warnings\n",
    "warnings.filterwarnings(\"ignore\")"
   ]
  },
  {
   "cell_type": "markdown",
   "metadata": {},
   "source": [
    "# Initializing the RAG chatbot"
   ]
  },
  {
   "cell_type": "code",
   "execution_count": 2,
   "metadata": {},
   "outputs": [],
   "source": [
    "chatbot = RAGChatbot(\n",
    "    pinecone_api_key=os.getenv('PINECONE_API_KEY'),\n",
    "    index_name='test',\n",
    ")"
   ]
  },
  {
   "cell_type": "markdown",
   "metadata": {},
   "source": [
    "# Below cell has code to ingest data into the pinecone vector database\n",
    "## Note: Only uncomment and run when you have to really ingest the data from the Data directory (which has all the relavant files)"
   ]
  },
  {
   "cell_type": "code",
   "execution_count": 3,
   "metadata": {},
   "outputs": [],
   "source": [
    "# chatbot.ingest_data('../../Data', empty=True)"
   ]
  },
  {
   "cell_type": "markdown",
   "metadata": {},
   "source": [
    "# Below cell is used to query the RAG chatbot\n",
    "## You can test the responses for different values of \n",
    "- k: The number of documents to retrieve from the vector database. You can input any natural number >= 1\n",
    "- rerank: Whether to rerank the retrieved documents or not. Possible inputs are true and false"
   ]
  },
  {
   "cell_type": "code",
   "execution_count": 4,
   "metadata": {},
   "outputs": [
    {
     "data": {
      "text/plain": [
       "'what is transformers'"
      ]
     },
     "execution_count": 4,
     "metadata": {},
     "output_type": "execute_result"
    }
   ],
   "source": [
    "prompt = 'what is transformers'\n",
    "prompt"
   ]
  },
  {
   "cell_type": "code",
   "execution_count": 5,
   "metadata": {},
   "outputs": [
    {
     "name": "stdout",
     "output_type": "stream",
     "text": [
      "Transformers are a type of model architecture used in machine learning, particularly in natural language processing (NLP). They were introduced in the paper \"Attention is All You Need\" by Vaswani et al. in 2017. Transformers use a mechanism called self-attention to weigh the importance of different words in a sentence, allowing them to capture long-range dependencies and relationships in data. This architecture has led to significant advancements in NLP tasks such as translation, summarization, and question answering.\n",
      "GPT Response\n"
     ]
    }
   ],
   "source": [
    "response, source = chatbot.query_chatbot(prompt, k=15, rerank=True)\n",
    "print(response)\n",
    "print(source)"
   ]
  },
  {
   "cell_type": "code",
   "execution_count": 6,
   "metadata": {},
   "outputs": [],
   "source": [
    "prompts = [\n",
    "    'Who is daniel?',\n",
    "    'Who is ringel?',\n",
    "    'Who are you?',\n",
    "    'What is your name?',\n",
    "    'What is your job?',\n",
    "]"
   ]
  },
  {
   "cell_type": "code",
   "execution_count": 7,
   "metadata": {},
   "outputs": [
    {
     "name": "stderr",
     "output_type": "stream",
     "text": [
      "100%|██████████| 1/1 [00:00<00:00, 21.22it/s]\n"
     ]
    },
    {
     "name": "stdout",
     "output_type": "stream",
     "text": [
      "Daniel Ringel is a researcher whose work is positioned at the intersection of marketing and artificial intelligence. His vision focuses on advancing data-driven marketing through the integration of artificial intelligence and machine learning. By combining marketing theory with real-world AI applications, Daniel aims to develop innovative frameworks and tools that benefit both academic discourse and practical implementation. He values collaboration with industry partners and academic peers across various fields to identify relevant research questions. His research portfolio is distinguished by methods and frameworks that leverage AI and ML to analyze complex market dynamics and consumer behaviors using large unstructured datasets. Daniel is also committed to interdisciplinary collaborations, sharing knowledge, and fostering interaction through dynamic tools and comprehensive tutorials. He actively participates in industry dialogues through keynotes and workshops on emerging AI technologies.\n",
      "../../Data/CV/Ringel_Daniel_CV.docx\n",
      "../../Data/Who-is-Wagner-Chatbot-Response.docx\n",
      "\n",
      "\n",
      "\n"
     ]
    },
    {
     "name": "stderr",
     "output_type": "stream",
     "text": [
      "100%|██████████| 1/1 [00:00<00:00, 14.90it/s]\n"
     ]
    },
    {
     "name": "stdout",
     "output_type": "stream",
     "text": [
      "Daniel M. Ringel is an Assistant Professor of Marketing at the UNC Kenan-Flagler Business School. He holds a Ph.D. in Marketing from Goethe-University in Frankfurt, Germany. He has a diverse professional background, including roles as a management consultant and founder of a company specializing in RC Aircraft and LiPo Batteries. His research focuses on leveraging generative AI in various fields, and he actively collaborates across disciplines, particularly with computer scientists. Daniel is committed to transparency and inclusivity in his work, ensuring that his data and tools are accessible to a broad audience.\n",
      "../../Data/CV/Ringel_Daniel_CV.docx\n",
      "\n",
      "\n",
      "\n",
      "Hello! My name is Wagner, inspired by the character from Goethe’s Faust. In the play, Wagner is Faust’s loyal assistant, supporting his intellectual pursuits, but in a more concentrated way. Similarly, my task is to assist with Daniel Rangel's research in artificial intelligence and marketing. I’m well-versed in Daniel’s publications, his ongoing research, CV, and academic achievements, and my mission is to provide precise, well-structured information about his academic career.\n",
      "                        While I may not have lofty aspirations like transforming the world, I’m committed to representing Daniel’s work within a defined scope. I aim to assist with inquiries regarding Daniel’s research, teaching, and professional path, and I might even share personal insights if treated with respect.\n",
      "None\n",
      "\n",
      "\n",
      "\n"
     ]
    },
    {
     "name": "stderr",
     "output_type": "stream",
     "text": [
      "100%|██████████| 1/1 [00:00<00:00, 14.11it/s]\n"
     ]
    },
    {
     "name": "stdout",
     "output_type": "stream",
     "text": [
      "Hello! I am Wagner, an assistant named after the character from Goethe’s \"Faust.\" My role is to help with all inquiries related to Daniel Rangel’s research in artificial intelligence and marketing.\n",
      "../../Data/Who-is-Wagner-Chatbot-Response.docx\n",
      "../../Data/5 Working Papers/Matthe_Ringel_Skiera_2024_In_Search_of_Signals.pdf\n",
      "../../Data/5 Working Papers/Ringel_Gabel_2024_Foundation_Model_for_Retail.pdf\n",
      "\n",
      "\n",
      "\n"
     ]
    },
    {
     "name": "stderr",
     "output_type": "stream",
     "text": [
      "100%|██████████| 1/1 [00:00<00:00, 24.31it/s]\n"
     ]
    },
    {
     "name": "stdout",
     "output_type": "stream",
     "text": [
      "Hello! I am Wagner, an assistant named after the character from Goethe’s Faust. My primary role is to assist with inquiries related to Daniel Rangel's research in artificial intelligence and marketing. I provide clear, structured, and accurate information based on his academic work, including his published and working papers, CV, and research profile. My goal is to reflect Daniel’s contributions to the field within a defined scope and assist with all inquiries related to his research, teaching, and career.\n",
      "../../Data/Who-is-Wagner-Chatbot-Response.docx\n",
      "../../Data/5 Working Papers/Matthe_Ringel_Skiera_2024_In_Search_of_Signals.pdf\n",
      "\n",
      "\n",
      "\n"
     ]
    }
   ],
   "source": [
    "for prompt in prompts:\n",
    "    response, sources = chatbot.query_chatbot(prompt, k=15, rerank=True)\n",
    "    print(response)\n",
    "\n",
    "    if type(sources) == str:\n",
    "        print(sources)\n",
    "    else:\n",
    "        for source in sources:\n",
    "            print(source)\n",
    "    print('\\n\\n')"
   ]
  }
 ],
 "metadata": {
  "kernelspec": {
   "display_name": "env",
   "language": "python",
   "name": "python3"
  },
  "language_info": {
   "codemirror_mode": {
    "name": "ipython",
    "version": 3
   },
   "file_extension": ".py",
   "mimetype": "text/x-python",
   "name": "python",
   "nbconvert_exporter": "python",
   "pygments_lexer": "ipython3",
   "version": "3.11.10"
  }
 },
 "nbformat": 4,
 "nbformat_minor": 2
}
