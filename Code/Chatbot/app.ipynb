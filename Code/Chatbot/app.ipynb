{
 "cells": [
  {
   "cell_type": "markdown",
   "metadata": {},
   "source": [
    "# Importing All Required Packages and Libraries"
   ]
  },
  {
   "cell_type": "code",
   "execution_count": 1,
   "metadata": {},
   "outputs": [
    {
     "name": "stderr",
     "output_type": "stream",
     "text": [
      "/home/salehahmad/Documents/Self_Done_Work/Daniel/env/lib/python3.11/site-packages/pinecone/data/index.py:1: TqdmWarning: IProgress not found. Please update jupyter and ipywidgets. See https://ipywidgets.readthedocs.io/en/stable/user_install.html\n",
      "  from tqdm.autonotebook import tqdm\n",
      "/home/salehahmad/Documents/Self_Done_Work/Daniel/env/lib/python3.11/site-packages/pydantic/_internal/_fields.py:132: UserWarning: Field \"model_name\" in HuggingFaceInferenceAPIEmbeddings has conflict with protected namespace \"model_\".\n",
      "\n",
      "You may be able to resolve this warning by setting `model_config['protected_namespaces'] = ()`.\n",
      "  warnings.warn(\n"
     ]
    }
   ],
   "source": [
    "from chatbot import RAGChatbot\n",
    "import os\n",
    "from dotenv import load_dotenv\n",
    "load_dotenv()\n",
    "\n",
    "import warnings\n",
    "warnings.filterwarnings(\"ignore\")"
   ]
  },
  {
   "cell_type": "markdown",
   "metadata": {},
   "source": [
    "# Initializing the RAG chatbot"
   ]
  },
  {
   "cell_type": "code",
   "execution_count": 2,
   "metadata": {},
   "outputs": [],
   "source": [
    "chatbot = RAGChatbot(\n",
    "    pinecone_api_key=os.getenv('PINECONE_API_KEY'),\n",
    "    index_name='test',\n",
    ")"
   ]
  },
  {
   "cell_type": "markdown",
   "metadata": {},
   "source": [
    "# Below cell has code to ingest data into the pinecone vector database\n",
    "## Note: Only uncomment and run when you have to really ingest the data from the Data directory (which has all the relavant files)"
   ]
  },
  {
   "cell_type": "code",
   "execution_count": 3,
   "metadata": {},
   "outputs": [],
   "source": [
    "# chatbot.ingest_data('../../Data', empty=True)"
   ]
  },
  {
   "cell_type": "markdown",
   "metadata": {},
   "source": [
    "# Below cell is used to query the RAG chatbot\n",
    "## You can test the responses for different values of \n",
    "- k: The number of documents to retrieve from the vector database. You can input any natural number >= 1\n",
    "- rerank: Whether to rerank the retrieved documents or not. Possible inputs are true and false"
   ]
  },
  {
   "cell_type": "code",
   "execution_count": 4,
   "metadata": {},
   "outputs": [
    {
     "data": {
      "text/plain": [
       "'what are LLMs???'"
      ]
     },
     "execution_count": 4,
     "metadata": {},
     "output_type": "execute_result"
    }
   ],
   "source": [
    "prompt = 'what are LLMs???'\n",
    "prompt"
   ]
  },
  {
   "cell_type": "code",
   "execution_count": 5,
   "metadata": {},
   "outputs": [
    {
     "name": "stdout",
     "output_type": "stream",
     "text": [
      "LLMs, or Large Language Models, are a type of artificial intelligence model designed to understand and generate human-like text. They are trained on vast amounts of text data and can perform a variety of language-related tasks, such as translation, summarization, and conversation. Examples of LLMs include OpenAI's GPT series and Google's BERT.\n",
      "GPT Response\n"
     ]
    }
   ],
   "source": [
    "response, source = chatbot.query_chatbot(prompt, k=15, rerank=True)\n",
    "print(response)\n",
    "print(source)"
   ]
  },
  {
   "cell_type": "code",
   "execution_count": 6,
   "metadata": {},
   "outputs": [],
   "source": [
    "prompts = [\n",
    "    'Who is daniel?',\n",
    "    'Who is ringel?',\n",
    "    'Who are you?',\n",
    "    'What is your name?',\n",
    "    'What is your job?',\n",
    "]"
   ]
  },
  {
   "cell_type": "code",
   "execution_count": 7,
   "metadata": {},
   "outputs": [
    {
     "name": "stderr",
     "output_type": "stream",
     "text": [
      "100%|██████████| 1/1 [00:00<00:00, 22.49it/s]\n"
     ]
    },
    {
     "name": "stdout",
     "output_type": "stream",
     "text": [
      "Daniel Ringel is a researcher whose work is situated at the intersection of marketing and artificial intelligence. His vision is to advance data-driven marketing through AI and machine learning, integrating marketing theory with real-world applications to develop new frameworks and tools. He collaborates with industry partners and academic peers to identify practically relevant research questions. Daniel's research portfolio includes methods and frameworks that leverage AI and ML to generate insights into complex market dynamics and consumer behaviors from large unstructured datasets. He is also active in interdisciplinary collaborations, sharing knowledge across disciplines at UNC Chapel Hill, and developing dynamic tools such as mapxp.app and evomap.io. Daniel is committed to transparency and inclusivity, providing data and code for his work, and actively participates in industry dialogues through keynotes and workshops on emerging AI technologies.\n",
      "../../Data/CV/Ringel_Daniel_CV.docx\n",
      "../../Data/Who-is-Wagner-Chatbot-Response.docx\n",
      "\n",
      "\n",
      "\n"
     ]
    },
    {
     "name": "stderr",
     "output_type": "stream",
     "text": [
      "100%|██████████| 1/1 [00:00<00:00, 16.47it/s]\n"
     ]
    },
    {
     "name": "stdout",
     "output_type": "stream",
     "text": [
      "Daniel Ringel is an Assistant Professor of Marketing at UNC Kenan-Flagler Business School. He holds a Ph.D. in Marketing from Goethe-University in Frankfurt, Germany. His work focuses on extending the impact of his research by engaging a broad audience and facilitating interdisciplinary collaborations, particularly with computer scientists. Daniel is active in sharing his knowledge across disciplines at UNC Chapel Hill and is committed to transparency and inclusivity, making data and code readily available. His professional experiences include roles as a director and management consultant, as well as founding and managing a company in the RC aircraft industry.\n",
      "../../Data/CV/Ringel_Daniel_CV.docx\n",
      "\n",
      "\n",
      "\n",
      "Hello! My name is Wagner, inspired by the character from Goethe’s Faust. In the play, Wagner is Faust’s loyal assistant, supporting his intellectual pursuits, but in a more concentrated way. Similarly, my task is to assist with Daniel Rangel's research in artificial intelligence and marketing. I’m well-versed in Daniel’s publications, his ongoing research, CV, and academic achievements, and my mission is to provide precise, well-structured information about his academic career.\n",
      "                        While I may not have lofty aspirations like transforming the world, I’m committed to representing Daniel’s work within a defined scope. I aim to assist with inquiries regarding Daniel’s research, teaching, and professional path, and I might even share personal insights if treated with respect.\n",
      "None\n",
      "\n",
      "\n",
      "\n",
      "Hello! My name is Wagner, inspired by the character from Goethe’s Faust. In the play, Wagner is Faust’s loyal assistant, supporting his intellectual pursuits, but in a more concentrated way. Similarly, my task is to assist with Daniel Rangel's research in artificial intelligence and marketing. I’m well-versed in Daniel’s publications, his ongoing research, CV, and academic achievements, and my mission is to provide precise, well-structured information about his academic career.\n",
      "                        While I may not have lofty aspirations like transforming the world, I’m committed to representing Daniel’s work within a defined scope. I aim to assist with inquiries regarding Daniel’s research, teaching, and professional path, and I might even share personal insights if treated with respect.\n",
      "None\n",
      "\n",
      "\n",
      "\n"
     ]
    },
    {
     "name": "stderr",
     "output_type": "stream",
     "text": [
      "100%|██████████| 1/1 [00:00<00:00, 23.83it/s]\n"
     ]
    },
    {
     "name": "stdout",
     "output_type": "stream",
     "text": [
      "Hello! I am Wagner, an AI assistant designed to provide information about Daniel Rangel’s research in artificial intelligence and marketing. I assist by offering clear, structured, and accurate information based on Daniel's academic work, including his published and working papers, CV, and research profile. My role is to support inquiries related to Daniel's research, teaching, and career.\n",
      "../../Data/Who-is-Wagner-Chatbot-Response.docx\n",
      "../../Data/5 Working Papers/Matthe_Ringel_Skiera_2024_In_Search_of_Signals.pdf\n",
      "\n",
      "\n",
      "\n"
     ]
    }
   ],
   "source": [
    "for prompt in prompts:\n",
    "    response, sources = chatbot.query_chatbot(prompt, k=15, rerank=True)\n",
    "    print(response)\n",
    "\n",
    "    if type(sources) == str:\n",
    "        print(sources)\n",
    "    else:\n",
    "        for source in sources:\n",
    "            print(source)\n",
    "    print('\\n\\n')"
   ]
  }
 ],
 "metadata": {
  "kernelspec": {
   "display_name": "env",
   "language": "python",
   "name": "python3"
  },
  "language_info": {
   "codemirror_mode": {
    "name": "ipython",
    "version": 3
   },
   "file_extension": ".py",
   "mimetype": "text/x-python",
   "name": "python",
   "nbconvert_exporter": "python",
   "pygments_lexer": "ipython3",
   "version": "3.11.10"
  }
 },
 "nbformat": 4,
 "nbformat_minor": 2
}
