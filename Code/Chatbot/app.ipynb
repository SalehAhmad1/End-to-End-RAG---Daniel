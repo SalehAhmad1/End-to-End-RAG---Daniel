{
 "cells": [
  {
   "cell_type": "markdown",
   "metadata": {},
   "source": [
    "# Importing All Required Packages and Libraries"
   ]
  },
  {
   "cell_type": "code",
   "execution_count": 1,
   "metadata": {},
   "outputs": [
    {
     "name": "stderr",
     "output_type": "stream",
     "text": [
      "/home/salehahmad/Documents/Self_Done_Work/Daniel/env/lib/python3.11/site-packages/pinecone/data/index.py:1: TqdmWarning: IProgress not found. Please update jupyter and ipywidgets. See https://ipywidgets.readthedocs.io/en/stable/user_install.html\n",
      "  from tqdm.autonotebook import tqdm\n",
      "/home/salehahmad/Documents/Self_Done_Work/Daniel/env/lib/python3.11/site-packages/pydantic/_internal/_fields.py:132: UserWarning: Field \"model_name\" in HuggingFaceInferenceAPIEmbeddings has conflict with protected namespace \"model_\".\n",
      "\n",
      "You may be able to resolve this warning by setting `model_config['protected_namespaces'] = ()`.\n",
      "  warnings.warn(\n"
     ]
    },
    {
     "data": {
      "text/plain": [
       "True"
      ]
     },
     "execution_count": 1,
     "metadata": {},
     "output_type": "execute_result"
    }
   ],
   "source": [
    "from chatbot import RAGChatbot\n",
    "import os\n",
    "from dotenv import load_dotenv\n",
    "load_dotenv()"
   ]
  },
  {
   "cell_type": "markdown",
   "metadata": {},
   "source": [
    "# Initializing the RAG chatbot"
   ]
  },
  {
   "cell_type": "code",
   "execution_count": 2,
   "metadata": {},
   "outputs": [
    {
     "name": "stderr",
     "output_type": "stream",
     "text": [
      "/home/salehahmad/Documents/Self_Done_Work/Daniel/env/lib/python3.11/site-packages/transformers/tokenization_utils_base.py:1601: FutureWarning: `clean_up_tokenization_spaces` was not set. It will be set to `True` by default. This behavior will be depracted in transformers v4.45, and will be then set to `False` by default. For more details check this issue: https://github.com/huggingface/transformers/issues/31884\n",
      "  warnings.warn(\n",
      "/home/salehahmad/Documents/Self_Done_Work/Daniel/env/lib/python3.11/site-packages/colbert/utils/amp.py:12: FutureWarning: `torch.cuda.amp.GradScaler(args...)` is deprecated. Please use `torch.amp.GradScaler('cuda', args...)` instead.\n",
      "  self.scaler = torch.cuda.amp.GradScaler()\n"
     ]
    }
   ],
   "source": [
    "chatbot = RAGChatbot(\n",
    "    pinecone_api_key=os.getenv('PINECONE_API_KEY'),\n",
    "    index_name='test',\n",
    ")"
   ]
  },
  {
   "cell_type": "markdown",
   "metadata": {},
   "source": [
    "# Below cell has code to ingest data into the pinecone vector database\n",
    "## Note: Only uncomment and run when you have to really ingest the data from the Data directory (which has all the relavant files)"
   ]
  },
  {
   "cell_type": "code",
   "execution_count": 3,
   "metadata": {},
   "outputs": [],
   "source": [
    "# chatbot.ingest_data('../../Data', empty=True)"
   ]
  },
  {
   "cell_type": "markdown",
   "metadata": {},
   "source": [
    "# Below cell is used to query the RAG chatbot\n",
    "## You can test the responses for different values of \n",
    "- k: The number of documents to retrieve from the vector database. You can input any natural number >= 1\n",
    "- rerank: Whether to rerank the retrieved documents or not. Possible inputs are true and false"
   ]
  },
  {
   "cell_type": "code",
   "execution_count": 4,
   "metadata": {},
   "outputs": [
    {
     "name": "stderr",
     "output_type": "stream",
     "text": [
      "/home/salehahmad/Documents/Self_Done_Work/Daniel/env/lib/python3.11/site-packages/colbert/utils/amp.py:15: FutureWarning: `torch.cuda.amp.autocast(args...)` is deprecated. Please use `torch.amp.autocast('cuda', args...)` instead.\n",
      "  return torch.cuda.amp.autocast() if self.activated else NullContextManager()\n",
      "100%|██████████| 1/1 [00:00<00:00, 24.64it/s]\n"
     ]
    },
    {
     "name": "stdout",
     "output_type": "stream",
     "text": [
      "---\n",
      "The Retrieved Documents are:\n",
      "0 - {'source': '../../Data/3 Published Papers/for_Website/Ringel-2023-Multimarket-Membership-Mapping-JMR.pdf'}\n",
      "1 - {'source': '../../Data/3 Published Papers/for_Embedding/Ringel-2023-Multimarket_Membership_Mapping.docx'}\n",
      "2 - {'source': '../../Data/CV/Ringel_Daniel_CV_V1.docx'}\n",
      "3 - {'source': '../../Data/5 Working Papers/Malhotra_Ringel_Zhao_Cui_2024_Brand_Alliance_Opportunities.pdf'}\n",
      "4 - {'source': '../../Data/CV/Ringel_Daniel_CV_V1.docx'}\n",
      "5 - {'source': '../../Data/CV/Ringel_Daniel_CV_V1.docx'}\n",
      "6 - {'source': '../../Data/3 Published Papers/for_Embedding/Ringel-2023-Multimarket_Membership_Mapping.docx'}\n",
      "7 - {'source': '../../Data/CV/Ringel_Daniel_CV_V1.docx'}\n",
      "8 - {'source': '../../Data/CV/Ringel_Daniel_CV_V1.docx'}\n",
      "9 - {'source': '../../Data/5 Working Papers/Malhotra_Ringel_Zhao_Cui_2024_Brand_Alliance_Opportunities.pdf'}\n",
      "10 - {'source': '../../Data/5 Working Papers/Malhotra_Ringel_Zhao_Cui_2024_Brand_Alliance_Opportunities.pdf'}\n",
      "11 - {'source': '../../Data/3 Published Papers/for_Website/Ringel-2023-Multimarket-Membership-Mapping-JMR.pdf'}\n",
      "12 - {'source': '../../Data/3 Published Papers/for_Website/Ringel-2023-Multimarket-Membership-Mapping-JMR.pdf'}\n",
      "13 - {'source': '../../Data/CV/Ringel_Daniel_CV_V1.docx'}\n",
      "14 - {'source': '../../Data/CV/Ringel_Daniel_CV_V1.docx'}\n",
      "---\n",
      "\n",
      "\n",
      "Mr. Daniel M. Ringel is an esteemed Assistant Professor of Marketing at the Kenan-Flagler Business School, University of North Carolina at Chapel Hill. His expertise lies in data science and artificial intelligence, particularly focusing on how these technologies can be leveraged in the field of marketing.\n",
      "\n",
      "### Educational Background:\n",
      "- **Ph.D. in Marketing** from Goethe-University, Frankfurt, Germany (2017)\n",
      "- **MBA** from Goethe Business School in Alliance with Duke, Frankfurt, Germany (2011)\n",
      "- **BA in Business and Economics** from Baden-Württemberg Cooperative State University, Germany (2000)\n",
      "\n",
      "### Professional Experience:\n",
      "- **Assistant Professor of Marketing for Data Science and AI** at UNC Kenan-Flagler Business School since 2017.\n",
      "- **Founder and Managing Director** of Ringel Modellbau, a company specializing in RC aircraft and LiPo batteries, operating in Germany and China (2005-2011).\n",
      "- **Director and Management Consultant** at DMRcon, Germany (2004-2011).\n",
      "- **Management Consultant** at The Monitor Group in Switzerland, South Africa, and Germany (2000-2003).\n",
      "\n",
      "### Research Contributions:\n",
      "Daniel M. Ringel is known for his pioneering work in applying generative artificial intelligence to create synthetic experts and enhance market analysis. Some of his notable publications include:\n",
      "- **\"Creating Synthetic Experts with Generative Artificial Intelligence\"** (2023)\n",
      "- **\"Multimarket Membership Mapping\"** in the Journal of Marketing Research (2023)\n",
      "- Collaborative work on **\"The Market Basket Transformer\"**, a foundation model for retail analysis, addressing biases in data.\n",
      "\n",
      "### Awards and Honors:\n",
      "- **Weatherspoon Award for Excellence in MBA Teaching** multiple times.\n",
      "- **MBA All-Star Instructor** at Kenan-Flagler Business School (2021-2024).\n",
      "- **Wolfgang-Ritter-Prize** (2019) and various other prestigious awards for his contributions to marketing science and research.\n",
      "\n",
      "### Service and Community Involvement:\n",
      "- **Academic Co-Director** of the Humphrey Fellowship Workshop for Generative AI.\n",
      "- Active member and contributor to the American Marketing Association AI Special Interests Group.\n",
      "- Judge at the Carolina Data Challenge Hackathon.\n",
      "\n",
      "Mr. Ringel's work bridges the gap between cutting-edge AI technologies and practical applications in marketing, making significant contributions to both academia and industry. His research offers valuable insights into market structures, political communication strategies, and the use of transformer models in retail."
     ]
    }
   ],
   "source": [
    "response = chatbot.query_chatbot(input(), k=15, rerank=True) #the input() will ask you to enter the query\n",
    "for chunk in response: #Streamed response\n",
    "    print(chunk, end='', flush=True)"
   ]
  }
 ],
 "metadata": {
  "kernelspec": {
   "display_name": "env",
   "language": "python",
   "name": "python3"
  },
  "language_info": {
   "codemirror_mode": {
    "name": "ipython",
    "version": 3
   },
   "file_extension": ".py",
   "mimetype": "text/x-python",
   "name": "python",
   "nbconvert_exporter": "python",
   "pygments_lexer": "ipython3",
   "version": "3.11.10"
  }
 },
 "nbformat": 4,
 "nbformat_minor": 2
}
