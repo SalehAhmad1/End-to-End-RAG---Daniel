{
 "cells": [
  {
   "cell_type": "markdown",
   "metadata": {},
   "source": [
    "# Importing All Required Packages and Libraries"
   ]
  },
  {
   "cell_type": "code",
   "execution_count": 1,
   "metadata": {},
   "outputs": [
    {
     "name": "stderr",
     "output_type": "stream",
     "text": [
      "/home/salehahmad/Documents/Self_Done_Work/Daniel/env/lib/python3.11/site-packages/pinecone/data/index.py:1: TqdmWarning: IProgress not found. Please update jupyter and ipywidgets. See https://ipywidgets.readthedocs.io/en/stable/user_install.html\n",
      "  from tqdm.autonotebook import tqdm\n",
      "/home/salehahmad/Documents/Self_Done_Work/Daniel/env/lib/python3.11/site-packages/pydantic/_internal/_fields.py:132: UserWarning: Field \"model_name\" in HuggingFaceInferenceAPIEmbeddings has conflict with protected namespace \"model_\".\n",
      "\n",
      "You may be able to resolve this warning by setting `model_config['protected_namespaces'] = ()`.\n",
      "  warnings.warn(\n"
     ]
    }
   ],
   "source": [
    "from chatbot import RAGChatbot\n",
    "import os\n",
    "from dotenv import load_dotenv\n",
    "load_dotenv()\n",
    "\n",
    "import warnings\n",
    "warnings.filterwarnings(\"ignore\")"
   ]
  },
  {
   "cell_type": "markdown",
   "metadata": {},
   "source": [
    "# Initializing the RAG chatbot"
   ]
  },
  {
   "cell_type": "code",
   "execution_count": 2,
   "metadata": {},
   "outputs": [],
   "source": [
    "chatbot = RAGChatbot(\n",
    "    pinecone_api_key=os.getenv('PINECONE_API_KEY'),\n",
    "    index_name='test',\n",
    ")"
   ]
  },
  {
   "cell_type": "markdown",
   "metadata": {},
   "source": [
    "# Below cell has code to ingest data into the pinecone vector database\n",
    "## Note: Only uncomment and run when you have to really ingest the data from the Data directory (which has all the relavant files)"
   ]
  },
  {
   "cell_type": "code",
   "execution_count": 3,
   "metadata": {},
   "outputs": [],
   "source": [
    "# chatbot.ingest_data('../../Data', empty=True)"
   ]
  },
  {
   "cell_type": "markdown",
   "metadata": {},
   "source": [
    "# Below cell is used to query the RAG chatbot\n",
    "## You can test the responses for different values of \n",
    "- k: The number of documents to retrieve from the vector database. You can input any natural number >= 1\n",
    "- rerank: Whether to rerank the retrieved documents or not. Possible inputs are true and false"
   ]
  },
  {
   "cell_type": "code",
   "execution_count": 4,
   "metadata": {},
   "outputs": [],
   "source": [
    "# response = chatbot.query_chatbot(input(), k=15, rerank=True) #the input() will ask you to enter the query\n",
    "# print(response['response'])\n",
    "\n",
    "# reranked_docs = response['context_docs']\n",
    "# for docs in reranked_docs:\n",
    "#     print(docs.metadata)"
   ]
  },
  {
   "cell_type": "code",
   "execution_count": 5,
   "metadata": {},
   "outputs": [],
   "source": [
    "prompts = [\n",
    "    'Who is daniel?',\n",
    "    'Who is ringel?',\n",
    "    'Who are you?',\n",
    "    'What is your name?',\n",
    "    'What is your job?',\n",
    "]"
   ]
  },
  {
   "cell_type": "code",
   "execution_count": 6,
   "metadata": {},
   "outputs": [
    {
     "name": "stdout",
     "output_type": "stream",
     "text": [
      "query_text: who is daniel? - best_match: who is Daniel Ringel? - highest_similarity: 0.8395398648603472\n",
      "Daniel M. Ringel is an Assistant Professor of Marketing specializing in Data Science and AI at the Kenan-Flagler Business School, University of North Carolina at Chapel Hill. His research focuses on the intersection of marketing and artificial intelligence, aiming to develop data-driven marketing frameworks using AI and machine learning. He holds a Ph.D. in Marketing from Goethe-University, Frankfurt, Germany. Daniel has an extensive professional background, having worked as a management consultant and founded a company in Germany. He is recognized for his contributions to academia with various awards and has published numerous research articles. His work often involves the development of new methodologies to understand market dynamics and consumer behaviors.\n",
      "../../Data/CV/Ringel_Daniel_CV_V1.docx\n",
      "\n",
      "\n",
      "\n",
      "query_text: who is ringel? - best_match: who is Daniel Ringel? - highest_similarity: 0.9999999999999973\n",
      "Daniel M. Ringel is an Assistant Professor of Marketing for Data Science and AI at the Kenan-Flagler Business School, University of North Carolina at Chapel Hill. His academic focus is on integrating marketing with artificial intelligence (AI) and machine learning (ML) to advance data-driven marketing strategies. He has a diverse professional background, including founding Ringel Modellbau and working as a management consultant. Additionally, Ringel has received numerous awards for his research and teaching, and he actively publishes and presents on topics related to marketing, AI, and data science.\n",
      "../../Data/CV/Ringel_Daniel_CV_V1.docx\n",
      "\n",
      "\n",
      "\n",
      "query_text: who are you? - best_match: who is Daniel Ringel? - highest_similarity: 0.31774265127902557\n"
     ]
    },
    {
     "name": "stderr",
     "output_type": "stream",
     "text": [
      "100%|██████████| 1/1 [00:00<00:00, 28.47it/s]\n"
     ]
    },
    {
     "name": "stdout",
     "output_type": "stream",
     "text": [
      "Hello! I am Wagner, an assistant named after the character from Goethe’s Faust. In Goethe's work, Wagner is the loyal student and assistant to Faust, sharing in his intellectual pursuits. Similarly, I am dedicated to assisting with Daniel Rangel's research in artificial intelligence and marketing. My role is to provide clear and accurate information about his academic work, including his published papers, CV, and research profile. While my ambitions are more modest, I strive to assist with all inquiries related to Daniel's research, teaching, and career.\n",
      "{'source': '../../Data/Wagner/Who-is-Wagner-Chatbot-Response.docx'}\n",
      "\n",
      "\n",
      "\n"
     ]
    }
   ],
   "source": [
    "for prompt in prompts:\n",
    "    response, source = chatbot.query_chatbot(prompt, k=15, rerank=True)\n",
    "    print(response)\n",
    "\n",
    "    if type(source) == str:\n",
    "        print(source)\n",
    "    else:\n",
    "        for docs in source:\n",
    "            print(docs.metadata)\n",
    "    print('\\n\\n')"
   ]
  }
 ],
 "metadata": {
  "kernelspec": {
   "display_name": "env",
   "language": "python",
   "name": "python3"
  },
  "language_info": {
   "codemirror_mode": {
    "name": "ipython",
    "version": 3
   },
   "file_extension": ".py",
   "mimetype": "text/x-python",
   "name": "python",
   "nbconvert_exporter": "python",
   "pygments_lexer": "ipython3",
   "version": "3.11.10"
  }
 },
 "nbformat": 4,
 "nbformat_minor": 2
}
