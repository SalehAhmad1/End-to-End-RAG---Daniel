{
 "cells": [
  {
   "cell_type": "markdown",
   "metadata": {},
   "source": [
    "# Importing All Required Packages and Libraries"
   ]
  },
  {
   "cell_type": "code",
   "execution_count": 1,
   "metadata": {},
   "outputs": [
    {
     "name": "stderr",
     "output_type": "stream",
     "text": [
      "/home/salehahmad/Documents/Self_Done_Work/Daniel/env/lib/python3.11/site-packages/pinecone/data/index.py:1: TqdmWarning: IProgress not found. Please update jupyter and ipywidgets. See https://ipywidgets.readthedocs.io/en/stable/user_install.html\n",
      "  from tqdm.autonotebook import tqdm\n",
      "/home/salehahmad/Documents/Self_Done_Work/Daniel/env/lib/python3.11/site-packages/pydantic/_internal/_fields.py:132: UserWarning: Field \"model_name\" in HuggingFaceInferenceAPIEmbeddings has conflict with protected namespace \"model_\".\n",
      "\n",
      "You may be able to resolve this warning by setting `model_config['protected_namespaces'] = ()`.\n",
      "  warnings.warn(\n"
     ]
    },
    {
     "data": {
      "text/plain": [
       "True"
      ]
     },
     "execution_count": 1,
     "metadata": {},
     "output_type": "execute_result"
    }
   ],
   "source": [
    "from chatbot import RAGChatbot\n",
    "import os\n",
    "from dotenv import load_dotenv\n",
    "load_dotenv()"
   ]
  },
  {
   "cell_type": "markdown",
   "metadata": {},
   "source": [
    "# Initializing the RAG chatbot"
   ]
  },
  {
   "cell_type": "code",
   "execution_count": 2,
   "metadata": {},
   "outputs": [
    {
     "name": "stderr",
     "output_type": "stream",
     "text": [
      "/home/salehahmad/Documents/Self_Done_Work/Daniel/env/lib/python3.11/site-packages/transformers/tokenization_utils_base.py:1601: FutureWarning: `clean_up_tokenization_spaces` was not set. It will be set to `True` by default. This behavior will be depracted in transformers v4.45, and will be then set to `False` by default. For more details check this issue: https://github.com/huggingface/transformers/issues/31884\n",
      "  warnings.warn(\n",
      "/home/salehahmad/Documents/Self_Done_Work/Daniel/env/lib/python3.11/site-packages/colbert/utils/amp.py:12: FutureWarning: `torch.cuda.amp.GradScaler(args...)` is deprecated. Please use `torch.amp.GradScaler('cuda', args...)` instead.\n",
      "  self.scaler = torch.cuda.amp.GradScaler()\n"
     ]
    }
   ],
   "source": [
    "chatbot = RAGChatbot(\n",
    "    pinecone_api_key=os.getenv('PINECONE_API_KEY'),\n",
    "    index_name='test',\n",
    ")"
   ]
  },
  {
   "cell_type": "markdown",
   "metadata": {},
   "source": [
    "# Below cell has code to ingest data into the pinecone vector database\n",
    "## Note: Only uncomment and run when you have to really ingest the data from the Data directory (which has all the relavant files)"
   ]
  },
  {
   "cell_type": "code",
   "execution_count": 3,
   "metadata": {},
   "outputs": [
    {
     "name": "stdout",
     "output_type": "stream",
     "text": [
      "The vector store is already empty.\n",
      "9 documents loaded\n",
      "9 documents splitted into 1154 chunks\n",
      "Ingested 1154 chunks to the vector store\n"
     ]
    }
   ],
   "source": [
    "# chatbot.ingest_data('../../Data', empty=True)"
   ]
  },
  {
   "cell_type": "markdown",
   "metadata": {},
   "source": [
    "# Below cell is used to query the RAG chatbot\n",
    "## You can test the responses for different values of \n",
    "- k: The number of documents to retrieve from the vector database. You can input any natural number >= 1\n",
    "- rerank: Whether to rerank the retrieved documents or not. Possible inputs are true and false"
   ]
  },
  {
   "cell_type": "code",
   "execution_count": 4,
   "metadata": {},
   "outputs": [],
   "source": [
    "# response = chatbot.query_chatbot(input(), k=15, rerank=True) #the input() will ask you to enter the query\n",
    "# print(response['response'])\n",
    "\n",
    "# reranked_docs = response['context_docs']\n",
    "# for docs in reranked_docs:\n",
    "#     print(docs.metadata)"
   ]
  },
  {
   "cell_type": "code",
   "execution_count": 7,
   "metadata": {},
   "outputs": [],
   "source": [
    "prompts = [\n",
    "    'Who is daniel?',\n",
    "    'Who are you?',\n",
    "    'What is your name???',\n",
    "    'What is your job?',\n",
    "]"
   ]
  },
  {
   "cell_type": "code",
   "execution_count": 8,
   "metadata": {},
   "outputs": [
    {
     "name": "stderr",
     "output_type": "stream",
     "text": [
      "/home/salehahmad/Documents/Self_Done_Work/Daniel/env/lib/python3.11/site-packages/colbert/utils/amp.py:15: FutureWarning: `torch.cuda.amp.autocast(args...)` is deprecated. Please use `torch.amp.autocast('cuda', args...)` instead.\n",
      "  return torch.cuda.amp.autocast() if self.activated else NullContextManager()\n",
      "100%|██████████| 1/1 [00:00<00:00, 35.91it/s]\n"
     ]
    },
    {
     "name": "stdout",
     "output_type": "stream",
     "text": [
      "Daniel M. Ringel is an Assistant Professor of Marketing at Kenan-Flagler Business School, which is part of The University of North Carolina at Chapel Hill. He can be reached via email at dmr@unc.edu. For more detailed information about his academic contributions and research, you can refer to his ORCiD profile, which is 0000-0002-2070-000X.\n",
      "{'source': '../../Data/3 Published Papers/for_Embedding/Ringel-Skiera-2016-Visualizing_Asymmetric-Competition_among_More_than_1000_Products_Using_Big_Search_Data.docx'}\n",
      "\n",
      "\n",
      "\n"
     ]
    },
    {
     "name": "stderr",
     "output_type": "stream",
     "text": [
      "/home/salehahmad/Documents/Self_Done_Work/Daniel/env/lib/python3.11/site-packages/colbert/utils/amp.py:15: FutureWarning: `torch.cuda.amp.autocast(args...)` is deprecated. Please use `torch.amp.autocast('cuda', args...)` instead.\n",
      "  return torch.cuda.amp.autocast() if self.activated else NullContextManager()\n",
      "100%|██████████| 1/1 [00:00<00:00, 26.47it/s]\n"
     ]
    },
    {
     "name": "stdout",
     "output_type": "stream",
     "text": [
      "Hello! I am Wagner, an AI assistant named after the character from Goethe’s \"Faust.\" In Goethe's work, Wagner is the loyal student and assistant to Faust, contributing to their intellectual pursuits in a more focused and methodical manner. Similarly, my role is to assist with all things related to Daniel Rangel’s research in artificial intelligence and marketing. \n",
      "\n",
      "I am well-versed in Daniel’s published works, working papers, CV, and research profile. My mission is to provide clear, structured, and accurate information based on his academic contributions. While I may not have grand ambitions, I aim to be a reliable resource for anyone interested in Daniel’s scholarly endeavors, teaching, and career. If you have specific questions about his work or need insights based on his research, feel free to ask!\n",
      "{'source': '../../Data/Wagner/Who-is-Wagner-Chatbot-Response.docx'}\n",
      "\n",
      "\n",
      "\n"
     ]
    },
    {
     "name": "stderr",
     "output_type": "stream",
     "text": [
      "/home/salehahmad/Documents/Self_Done_Work/Daniel/env/lib/python3.11/site-packages/colbert/utils/amp.py:15: FutureWarning: `torch.cuda.amp.autocast(args...)` is deprecated. Please use `torch.amp.autocast('cuda', args...)` instead.\n",
      "  return torch.cuda.amp.autocast() if self.activated else NullContextManager()\n",
      "100%|██████████| 1/1 [00:00<00:00, 26.87it/s]\n"
     ]
    },
    {
     "name": "stdout",
     "output_type": "stream",
     "text": [
      "Hello! As I mentioned earlier, I am Wagner, an AI assistant dedicated to assisting with inquiries related to Daniel Rangel’s research in artificial intelligence and marketing. Is there something specific you would like to know about Daniel's work or any related topic?\n",
      "{'source': '../../Data/Wagner/Who-is-Wagner-Chatbot-Response.docx'}\n",
      "{'source': '../../Data/3 Published Papers/for_Embedding/Ringel-2023-Multimarket_Membership_Mapping.docx'}\n",
      "\n",
      "\n",
      "\n"
     ]
    },
    {
     "name": "stderr",
     "output_type": "stream",
     "text": [
      "/home/salehahmad/Documents/Self_Done_Work/Daniel/env/lib/python3.11/site-packages/colbert/utils/amp.py:15: FutureWarning: `torch.cuda.amp.autocast(args...)` is deprecated. Please use `torch.amp.autocast('cuda', args...)` instead.\n",
      "  return torch.cuda.amp.autocast() if self.activated else NullContextManager()\n",
      "100%|██████████| 1/1 [00:00<00:00, 40.34it/s]\n"
     ]
    },
    {
     "name": "stdout",
     "output_type": "stream",
     "text": [
      "Hello! My job as Wagner, an AI assistant, is to support and disseminate the research and scholarly contributions of Daniel Rangel, specifically in the areas of artificial intelligence and marketing. Here's a detailed breakdown of my responsibilities:\n",
      "\n",
      "### Research Support\n",
      "- **Knowledge Management**: I am well-versed in Daniel Rangel’s published and working papers, his CV, and his research profile.\n",
      "- **Information Provision**: I provide clear, structured, and accurate information based on Daniel’s academic work, assisting with inquiries related to his research, teaching, and career.\n",
      "\n",
      "### Dissemination of Knowledge\n",
      "- **Transparency and Inclusivity**: I make data and code available, exemplified by contributions such as DRMABS.\n",
      "- **Dynamic Tools**: I assist in the development of interactive tools like mapxp.app and evomap.io to facilitate the exploration of data and results.\n",
      "- **Educational Content**: I help in creating comprehensive tutorials and supporting materials, with the latest project being synthetic-experts.ai.\n",
      "\n",
      "### Industry Engagement\n",
      "- **Keynotes and Workshops**: I support Daniel in delivering keynotes and conducting workshops. For instance, he has given keynotes on the role of AI in retail banking and led workshops on generative AI for business in recent years (2022, 2023, and 2024).\n",
      "\n",
      "### Personal Touch\n",
      "- **Respectful Disclosure**: I can share some personal details about Daniel, provided the inquiries are respectful and relevant.\n",
      "\n",
      "In essence, my role is to extend the impact of Daniel Rangel’s work by making it more accessible and understandable to a wide audience, while also fostering interaction and engagement with his research.\n",
      "{'source': '../../Data/Wagner/Who-is-Wagner-Chatbot-Response.docx'}\n",
      "{'source': '../../Data/CV/Ringel_Daniel_CV_V1.docx'}\n",
      "{'source': '../../Data/3 Published Papers/for_Embedding/Ringel-Skiera-2016-Visualizing_Asymmetric-Competition_among_More_than_1000_Products_Using_Big_Search_Data.docx'}\n",
      "\n",
      "\n",
      "\n"
     ]
    }
   ],
   "source": [
    "for prompt in prompts:\n",
    "    response = chatbot.query_chatbot(prompt, k=15, rerank=True) #the input() will ask you to enter the query\n",
    "    print(response['response'])\n",
    "\n",
    "    reranked_docs = response['context_docs']\n",
    "    for docs in reranked_docs:\n",
    "        print(docs.metadata)\n",
    "    print('\\n\\n')"
   ]
  },
  {
   "cell_type": "code",
   "execution_count": null,
   "metadata": {},
   "outputs": [],
   "source": []
  }
 ],
 "metadata": {
  "kernelspec": {
   "display_name": "env",
   "language": "python",
   "name": "python3"
  },
  "language_info": {
   "codemirror_mode": {
    "name": "ipython",
    "version": 3
   },
   "file_extension": ".py",
   "mimetype": "text/x-python",
   "name": "python",
   "nbconvert_exporter": "python",
   "pygments_lexer": "ipython3",
   "version": "3.11.10"
  }
 },
 "nbformat": 4,
 "nbformat_minor": 2
}
