{
 "cells": [
  {
   "cell_type": "markdown",
   "metadata": {},
   "source": [
    "# Importing All Required Packages and Libraries"
   ]
  },
  {
   "cell_type": "code",
   "execution_count": 1,
   "metadata": {},
   "outputs": [
    {
     "name": "stderr",
     "output_type": "stream",
     "text": [
      "/home/salehahmad/Documents/Self_Done_Work/Daniel/env/lib/python3.11/site-packages/pinecone/data/index.py:1: TqdmWarning: IProgress not found. Please update jupyter and ipywidgets. See https://ipywidgets.readthedocs.io/en/stable/user_install.html\n",
      "  from tqdm.autonotebook import tqdm\n",
      "/home/salehahmad/Documents/Self_Done_Work/Daniel/env/lib/python3.11/site-packages/pydantic/_internal/_fields.py:132: UserWarning: Field \"model_name\" in HuggingFaceInferenceAPIEmbeddings has conflict with protected namespace \"model_\".\n",
      "\n",
      "You may be able to resolve this warning by setting `model_config['protected_namespaces'] = ()`.\n",
      "  warnings.warn(\n"
     ]
    }
   ],
   "source": [
    "from chatbot import RAGChatbot\n",
    "import os\n",
    "from dotenv import load_dotenv\n",
    "load_dotenv()\n",
    "\n",
    "import warnings\n",
    "warnings.filterwarnings(\"ignore\")"
   ]
  },
  {
   "cell_type": "markdown",
   "metadata": {},
   "source": [
    "# Initializing the RAG chatbot"
   ]
  },
  {
   "cell_type": "code",
   "execution_count": 2,
   "metadata": {},
   "outputs": [],
   "source": [
    "chatbot = RAGChatbot(\n",
    "    pinecone_api_key=os.getenv('PINECONE_API_KEY'),\n",
    "    index_name='test',\n",
    ")"
   ]
  },
  {
   "cell_type": "markdown",
   "metadata": {},
   "source": [
    "# Below cell has code to ingest data into the pinecone vector database\n",
    "## Note: Only uncomment and run when you have to really ingest the data from the Data directory (which has all the relavant files)"
   ]
  },
  {
   "cell_type": "code",
   "execution_count": 3,
   "metadata": {},
   "outputs": [],
   "source": [
    "# chatbot.ingest_data('../../Data', empty=True)"
   ]
  },
  {
   "cell_type": "markdown",
   "metadata": {},
   "source": [
    "# Below cell is used to query the RAG chatbot\n",
    "## You can test the responses for different values of \n",
    "- k: The number of documents to retrieve from the vector database. You can input any natural number >= 1\n",
    "- rerank: Whether to rerank the retrieved documents or not. Possible inputs are True or False"
   ]
  },
  {
   "cell_type": "code",
   "execution_count": 4,
   "metadata": {},
   "outputs": [
    {
     "name": "stdout",
     "output_type": "stream",
     "text": [
      "The highest similarity score is 0.683591068\n"
     ]
    },
    {
     "name": "stderr",
     "output_type": "stream",
     "text": [
      "100%|██████████| 1/1 [00:00<00:00, 23.73it/s]\n"
     ]
    },
    {
     "name": "stdout",
     "output_type": "stream",
     "text": [
      "A transformer model is a type of deep learning architecture introduced by Vaswani et al. in 2017, which has significantly impacted fields like natural language processing, conversational AI, and computer vision. It uses a mechanism called self-attention to effectively capture contextual relationships within data, such as words in sentences or pixels in images. Transformers are pretrained on large datasets to learn complex relational patterns, making them versatile foundation models for various downstream applications.\n",
      "['../../Data/5 Working Papers/Ringel_Gabel_2024_Foundation_Model_for_Retail.pdf']\n"
     ]
    }
   ],
   "source": [
    "prompt = 'what is a transformer model????'\n",
    "response, source = chatbot.query_chatbot(prompt, k=15, rerank=True)\n",
    "print(response)\n",
    "print(source)"
   ]
  },
  {
   "cell_type": "code",
   "execution_count": 5,
   "metadata": {},
   "outputs": [
    {
     "name": "stdout",
     "output_type": "stream",
     "text": [
      "The highest similarity score is 0.473934531\n",
      "Bentley is a British luxury automobile manufacturer known for producing high-end, performance-oriented vehicles. The company was founded in 1919 by W.O. Bentley and is renowned for its craftsmanship, engineering excellence, and elegant design. Bentley is a subsidiary of the Volkswagen Group and offers a range of luxury cars, including sedans, coupes, and SUVs.\n",
      "GPT Response\n"
     ]
    }
   ],
   "source": [
    "prompt = 'what is bentley????'\n",
    "response, source = chatbot.query_chatbot(prompt, k=15, rerank=True)\n",
    "print(response)\n",
    "print(source)"
   ]
  },
  {
   "cell_type": "code",
   "execution_count": 6,
   "metadata": {},
   "outputs": [
    {
     "name": "stdout",
     "output_type": "stream",
     "text": [
      "The highest similarity score is 0.583127379\n"
     ]
    },
    {
     "name": "stderr",
     "output_type": "stream",
     "text": [
      "100%|██████████| 1/1 [00:00<00:00, 12.95it/s]\n"
     ]
    },
    {
     "name": "stdout",
     "output_type": "stream",
     "text": [
      "Daniel’s research is situated at the intersection of marketing and artificial intelligence. He aims to advance data-driven marketing through AI and machine learning by integrating marketing theory with real-world AI applications. Daniel develops new frameworks and tools that contribute to academic discourse and provide tangible benefits to practitioners. His work is characterized by using AI and ML to gain insights into complex market dynamics and consumer behaviors from vast unstructured datasets. Daniel actively collaborates with both industry partners and academic peers, seeking interdisciplinary collaborations, particularly with computer scientists, to foster relevant research questions and extend the impact of his work.\n",
      "['../../Data/CV/Ringel_Daniel_CV.docx', '../../Data/Who-is-Wagner-Chatbot-Response.docx']\n"
     ]
    }
   ],
   "source": [
    "prompt = 'what is Daniel?????'\n",
    "response, source = chatbot.query_chatbot(prompt, k=15, rerank=True)\n",
    "print(response)\n",
    "print(source)"
   ]
  },
  {
   "cell_type": "code",
   "execution_count": 7,
   "metadata": {},
   "outputs": [],
   "source": [
    "prompts = [\n",
    "    'Who is daniel?',\n",
    "    'Who is ringel?',\n",
    "    'Who are you?',\n",
    "    'What is your name?',\n",
    "    'What is your job?',\n",
    "]"
   ]
  },
  {
   "cell_type": "code",
   "execution_count": 8,
   "metadata": {},
   "outputs": [
    {
     "name": "stdout",
     "output_type": "stream",
     "text": [
      "The highest similarity score is 0.608664036\n"
     ]
    },
    {
     "name": "stderr",
     "output_type": "stream",
     "text": [
      "100%|██████████| 1/1 [00:00<00:00, 21.83it/s]\n"
     ]
    },
    {
     "name": "stdout",
     "output_type": "stream",
     "text": [
      "Daniel Ringel is a researcher whose work is situated at the intersection of marketing and artificial intelligence. His vision focuses on advancing data-driven marketing through AI and machine learning. By integrating marketing theory with real-world AI applications, he aims to develop frameworks and tools that contribute to academic discourse and provide tangible benefits to practitioners. He collaborates with industry partners and academic peers to identify practically relevant research questions. Daniel's research portfolio is characterized by methods and frameworks using AI and ML to gain insights into complex market dynamics and consumer behaviors from vast unstructured datasets. He also engages in interdisciplinary collaborations, shares his knowledge across disciplines, and actively participates in industry dialogues through keynotes and workshops.\n",
      "../../Data/CV/Ringel_Daniel_CV.docx\n",
      "../../Data/Who-is-Wagner-Chatbot-Response.docx\n",
      "\n",
      "\n",
      "\n",
      "The highest similarity score is 0.600634038\n"
     ]
    },
    {
     "name": "stderr",
     "output_type": "stream",
     "text": [
      "100%|██████████| 1/1 [00:00<00:00, 16.28it/s]\n"
     ]
    },
    {
     "name": "stdout",
     "output_type": "stream",
     "text": [
      "Daniel Ringel is an Assistant Professor of Marketing at the UNC Kenan-Flagler Business School. He holds a Ph.D. in Marketing from Goethe-University in Frankfurt, Germany. Daniel has extensive experience as a management consultant and has founded several businesses. His research focuses on leveraging generative artificial intelligence for complex classification tasks and market basket analysis in retail. He actively engages in interdisciplinary collaborations and shares his work through workshops, dynamic tools, and tutorials.\n",
      "../../Data/CV/Ringel_Daniel_CV.docx\n",
      "\n",
      "\n",
      "\n",
      "Hello! My name is Wagner, inspired by the character from Goethe’s Faust. In the play, Wagner is Faust’s loyal assistant, supporting his intellectual pursuits, but in a more concentrated way. Similarly, my task is to assist with Daniel Rangel's research in artificial intelligence and marketing. I’m well-versed in Daniel’s publications, his ongoing research, CV, and academic achievements, and my mission is to provide precise, well-structured information about his academic career.\n",
      "                        While I may not have lofty aspirations like transforming the world, I’m committed to representing Daniel’s work within a defined scope. I aim to assist with inquiries regarding Daniel’s research, teaching, and professional path, and I might even share personal insights if treated with respect.\n",
      "None\n",
      "\n",
      "\n",
      "\n",
      "Hello! My name is Wagner, inspired by the character from Goethe’s Faust. In the play, Wagner is Faust’s loyal assistant, supporting his intellectual pursuits, but in a more concentrated way. Similarly, my task is to assist with Daniel Rangel's research in artificial intelligence and marketing. I’m well-versed in Daniel’s publications, his ongoing research, CV, and academic achievements, and my mission is to provide precise, well-structured information about his academic career.\n",
      "                        While I may not have lofty aspirations like transforming the world, I’m committed to representing Daniel’s work within a defined scope. I aim to assist with inquiries regarding Daniel’s research, teaching, and professional path, and I might even share personal insights if treated with respect.\n",
      "None\n",
      "\n",
      "\n",
      "\n",
      "The highest similarity score is 0.508658946\n",
      "My job is to assist you by providing clear, accurate, and helpful responses to your questions. I'm here to understand your needs, offer concise answers, and guide you through solutions when needed. If there's anything specific you need help with, feel free to ask!\n",
      "GPT Response\n",
      "\n",
      "\n",
      "\n"
     ]
    }
   ],
   "source": [
    "for prompt in prompts:\n",
    "    response, sources = chatbot.query_chatbot(prompt, k=15, rerank=True)\n",
    "    print(response)\n",
    "\n",
    "    if type(sources) == str:\n",
    "        print(sources)\n",
    "    else:\n",
    "        for source in sources:\n",
    "            print(source)\n",
    "    print('\\n\\n')"
   ]
  }
 ],
 "metadata": {
  "kernelspec": {
   "display_name": "env",
   "language": "python",
   "name": "python3"
  },
  "language_info": {
   "codemirror_mode": {
    "name": "ipython",
    "version": 3
   },
   "file_extension": ".py",
   "mimetype": "text/x-python",
   "name": "python",
   "nbconvert_exporter": "python",
   "pygments_lexer": "ipython3",
   "version": "3.11.10"
  }
 },
 "nbformat": 4,
 "nbformat_minor": 2
}
