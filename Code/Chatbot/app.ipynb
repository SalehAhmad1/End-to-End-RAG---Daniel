{
 "cells": [
  {
   "cell_type": "markdown",
   "metadata": {},
   "source": [
    "# Importing All Required Packages and Libraries"
   ]
  },
  {
   "cell_type": "code",
   "execution_count": 1,
   "metadata": {},
   "outputs": [
    {
     "data": {
      "text/plain": [
       "True"
      ]
     },
     "execution_count": 1,
     "metadata": {},
     "output_type": "execute_result"
    }
   ],
   "source": [
    "from chatbot import RAGChatbot\n",
    "import os\n",
    "from dotenv import load_dotenv\n",
    "load_dotenv()"
   ]
  },
  {
   "cell_type": "markdown",
   "metadata": {},
   "source": [
    "# Initializing the RAG chatbot"
   ]
  },
  {
   "cell_type": "code",
   "execution_count": 2,
   "metadata": {},
   "outputs": [],
   "source": [
    "chatbot = RAGChatbot(\n",
    "    pinecone_api_key=os.getenv('PINECONE_API_KEY'),\n",
    "    index_name='test',\n",
    ")"
   ]
  },
  {
   "cell_type": "markdown",
   "metadata": {},
   "source": [
    "# Below cell has code to ingest data into the pinecone vector database\n",
    "## Note: Only uncomment and run when you have to really ingest the data from the Data directory (which has all the relavant files)"
   ]
  },
  {
   "cell_type": "code",
   "execution_count": 3,
   "metadata": {},
   "outputs": [],
   "source": [
    "# chatbot.ingest_data('../../Data', empty=True)"
   ]
  },
  {
   "cell_type": "markdown",
   "metadata": {},
   "source": [
    "# Below cell is used to query the RAG chatbot\n",
    "## You can test the responses for different values of \n",
    "- k: The number of documents to retrieve from the vector database. You can input any natural number >= 1\n",
    "- rerank: Whether to rerank the retrieved documents or not. Possible inputs are true and false"
   ]
  },
  {
   "cell_type": "code",
   "execution_count": 4,
   "metadata": {},
   "outputs": [
    {
     "name": "stdout",
     "output_type": "stream",
     "text": [
      "---\n",
      "The Retrieved Documents are:\n",
      "0 - {'source': '../../Data/5 Working Papers/Malhotra_Ringel_Zhao_Cui_2024_Brand_Alliance_Opportunities.pdf'}\n",
      "1 - {'source': '../../Data/5 Working Papers/Malhotra_Ringel_Zhao_Cui_2024_Brand_Alliance_Opportunities.pdf'}\n",
      "2 - {'source': '../../Data/3 Published Papers/for_Embedding/Ringel-2023-Multimarket_Membership_Mapping.docx'}\n",
      "3 - {'source': '../../Data/3 Published Papers/for_Website/Ringel-2023-Multimarket-Membership-Mapping-JMR.pdf'}\n",
      "4 - {'source': '../../Data/CV/Ringel_Daniel_CV_V1.docx'}\n",
      "5 - {'source': '../../Data/CV/Ringel_Daniel_CV_V1.docx'}\n",
      "6 - {'source': '../../Data/3 Published Papers/for_Embedding/Ringel-2023-Multimarket_Membership_Mapping.docx'}\n",
      "7 - {'source': '../../Data/CV/Ringel_Daniel_CV_V1.docx'}\n",
      "8 - {'source': '../../Data/3 Published Papers/for_Website/Ringel-Skiera-2016-Visualizing-Competition-Between-1000-Products-MktSci.pdf'}\n",
      "9 - {'source': '../../Data/CV/Ringel_Daniel_CV_V1.docx'}\n",
      "10 - {'source': '../../Data/3 Published Papers/for_Embedding/Ringel-2023-Multimarket_Membership_Mapping.docx'}\n",
      "11 - {'source': '../../Data/CV/Ringel_Daniel_CV_V1.docx'}\n",
      "12 - {'source': '../../Data/3 Published Papers/for_Website/Ringel-2023-Multimarket-Membership-Mapping-JMR.pdf'}\n",
      "13 - {'source': '../../Data/CV/Ringel_Daniel_CV_V1.docx'}\n",
      "14 - {'source': '../../Data/3 Published Papers/for_Website/Ringel-2023-Multimarket-Membership-Mapping-JMR.pdf'}\n",
      "---\n",
      "\n",
      "\n",
      "Daniel M. Ringel is an Assistant Professor of Marketing at the Kenan-Flagler Business School of the University of North Carolina at Chapel Hill. His expertise lies in the fields of Data Science and Artificial Intelligence as applied to marketing. He has an extensive educational background, having earned a Ph.D. in Marketing from Goethe-University in Frankfurt, Germany, an MBA from Goethe Business School in alliance with Duke University, and a BA in Business and Economics from Baden-Württemberg Cooperative State University in Germany.\n",
      "\n",
      "Professionally, Ringel has held his current academic position since June 2017. Before academia, he was the Founder and Managing Director of Ringel Modellbau, a company specializing in RC aircraft and LiPo batteries, and worked as a management consultant for The Monitor Group and DMRcon in various international locations.\n",
      "\n",
      "Ringel has received numerous awards and honors, including the Weatherspoon Award for Excellence in MBA Teaching and the Wolfgang-Ritter-Prize. He has also been a fellow in several prestigious programs and received significant research grants, including a recent Humphrey Fellowship Grant for an enhancement workshop on Generative AI in 2024.\n",
      "\n",
      "His research includes published works in high-impact journals, such as the Journal of Marketing Research. His notable papers include \"Creating Synthetic Experts with Generative Artificial Intelligence\" and \"Multimarket Membership Mapping.\" He has also explored topics such as political communication strategies and consumer characteristics inferred from search queries. \n",
      "\n",
      "For further details, you can visit his professional website at www.ringel.us or contact him via email at dmr@unc.edu.\n",
      "{'source': '../../Data/5 Working Papers/Malhotra_Ringel_Zhao_Cui_2024_Brand_Alliance_Opportunities.pdf'}\n",
      "{'source': '../../Data/5 Working Papers/Malhotra_Ringel_Zhao_Cui_2024_Brand_Alliance_Opportunities.pdf'}\n",
      "{'source': '../../Data/3 Published Papers/for_Embedding/Ringel-2023-Multimarket_Membership_Mapping.docx'}\n",
      "{'source': '../../Data/3 Published Papers/for_Website/Ringel-2023-Multimarket-Membership-Mapping-JMR.pdf'}\n",
      "{'source': '../../Data/CV/Ringel_Daniel_CV_V1.docx'}\n",
      "{'source': '../../Data/CV/Ringel_Daniel_CV_V1.docx'}\n",
      "{'source': '../../Data/3 Published Papers/for_Embedding/Ringel-2023-Multimarket_Membership_Mapping.docx'}\n",
      "{'source': '../../Data/CV/Ringel_Daniel_CV_V1.docx'}\n",
      "{'source': '../../Data/3 Published Papers/for_Website/Ringel-Skiera-2016-Visualizing-Competition-Between-1000-Products-MktSci.pdf'}\n",
      "{'source': '../../Data/CV/Ringel_Daniel_CV_V1.docx'}\n",
      "{'source': '../../Data/3 Published Papers/for_Embedding/Ringel-2023-Multimarket_Membership_Mapping.docx'}\n",
      "{'source': '../../Data/CV/Ringel_Daniel_CV_V1.docx'}\n",
      "{'source': '../../Data/3 Published Papers/for_Website/Ringel-2023-Multimarket-Membership-Mapping-JMR.pdf'}\n",
      "{'source': '../../Data/CV/Ringel_Daniel_CV_V1.docx'}\n",
      "{'source': '../../Data/3 Published Papers/for_Website/Ringel-2023-Multimarket-Membership-Mapping-JMR.pdf'}\n"
     ]
    }
   ],
   "source": [
    "response = chatbot.query_chatbot(input(), k=15, rerank=True) #the input() will ask you to enter the query\n",
    "print(response['response'])\n",
    "\n",
    "reranked_docs = response['context_docs']\n",
    "for docs in reranked_docs:\n",
    "    print(docs.metadata)"
   ]
  }
 ],
 "metadata": {
  "kernelspec": {
   "display_name": "env",
   "language": "python",
   "name": "python3"
  },
  "language_info": {
   "codemirror_mode": {
    "name": "ipython",
    "version": 3
   },
   "file_extension": ".py",
   "mimetype": "text/x-python",
   "name": "python",
   "nbconvert_exporter": "python",
   "pygments_lexer": "ipython3",
   "version": "3.11.10"
  }
 },
 "nbformat": 4,
 "nbformat_minor": 2
}
